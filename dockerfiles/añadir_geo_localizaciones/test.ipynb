{
 "cells": [
  {
   "cell_type": "code",
   "execution_count": 1,
   "metadata": {},
   "outputs": [],
   "source": [
    "import psycopg2\n",
    "import pandas as pd\n",
    "\n",
    "def connect_db(dbname, user, password, host, port):\n",
    "    \"\"\"\n",
    "    Establece una conexión a la base de datos PostgreSQL.\n",
    "    \"\"\"\n",
    "    try:\n",
    "        conn = psycopg2.connect(dbname=dbname, user=user, password=password, host=host, port=port)\n",
    "        return conn\n",
    "    except Exception as e:\n",
    "        print(f\"Error connecting to database: {e}\")\n",
    "        return None\n",
    "\n",
    "def load_data_from_db(conn, query):\n",
    "    \"\"\"\n",
    "    Carga los datos desde la base de datos utilizando la conexión proporcionada y una consulta SQL.\n",
    "    \"\"\"\n",
    "    try:\n",
    "        df = pd.read_sql_query(query, conn)\n",
    "        return df\n",
    "    except Exception as e:\n",
    "        print(f\"Error loading data from database: {e}\")\n",
    "        return None\n"
   ]
  },
  {
   "cell_type": "code",
   "execution_count": 3,
   "metadata": {},
   "outputs": [],
   "source": [
    "def main():\n",
    "    # Conectar a la base de datos\n",
    "    conn_source = connect_db(\"datos_limpios\", \"datos_limpios\", \"datos_limpios\", \"10.1.2.2\", \"5439\")\n",
    "    \n",
    "    if conn_source is None:\n",
    "        print(\"Failed to connect to the database.\")\n",
    "        return\n",
    "\n",
    "    # Definir la consulta SQL para obtener los datos\n",
    "    query = \"SELECT * FROM consolidated_data\"\n",
    "    \n",
    "    # Cargar los datos desde la base de datos\n",
    "    df = load_data_from_db(conn_source, query)\n",
    "    \n",
    "    if df is None:\n",
    "        print(\"Failed to load data from the database.\")\n",
    "        return\n",
    "    \n",
    "    # Mostrar los primeros registros del DataFrame cargado para verificar la carga de datos\n",
    "    print(df.head())\n",
    "    \n",
    "    # Cerrar la conexión a la base de datos\n",
    "    conn_source.close()\n"
   ]
  }
 ],
 "metadata": {
  "kernelspec": {
   "display_name": "Python 3",
   "language": "python",
   "name": "python3"
  },
  "language_info": {
   "codemirror_mode": {
    "name": "ipython",
    "version": 3
   },
   "file_extension": ".py",
   "mimetype": "text/x-python",
   "name": "python",
   "nbconvert_exporter": "python",
   "pygments_lexer": "ipython3",
   "version": "3.12.5"
  }
 },
 "nbformat": 4,
 "nbformat_minor": 2
}
