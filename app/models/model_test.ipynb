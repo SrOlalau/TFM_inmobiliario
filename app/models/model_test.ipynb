{
 "cells": [
  {
   "cell_type": "code",
   "execution_count": 2,
   "id": "6d298376-77a1-4814-95ae-a0c0da10eede",
   "metadata": {},
   "outputs": [],
   "source": [
    "import pandas as pd\n",
    "import numpy as np\n",
    "from sklearn.model_selection import train_test_split\n",
    "from sklearn.preprocessing import StandardScaler\n",
    "from sklearn.compose import ColumnTransformer\n",
    "from sklearn.pipeline import Pipeline\n",
    "from sklearn.impute import SimpleImputer\n",
    "from sklearn.metrics import mean_absolute_error, mean_squared_error, r2_score\n",
    "from sklearn.ensemble import RandomForestRegressor\n",
    "from sklearn.linear_model import LinearRegression\n",
    "import os\n",
    "import joblib\n",
    "import streamlit"
   ]
  },
  {
   "cell_type": "code",
   "execution_count": 3,
   "id": "892a5f5f-5cd2-405b-8c89-0945be74a117",
   "metadata": {},
   "outputs": [
    {
     "name": "stderr",
     "output_type": "stream",
     "text": [
      "/var/folders/6l/xmxqxb352dl57_n06gxvgs3m0000gn/T/ipykernel_41801/1176395177.py:4: DtypeWarning: Columns (11,16,17) have mixed types. Specify dtype option on import or set low_memory=False.\n",
      "  df = pd.read_csv(file_path, sep = ',')\n"
     ]
    },
    {
     "name": "stdout",
     "output_type": "stream",
     "text": [
      "Tamaño del DataFrame: (284168, 18)\n",
      "Tamaño de X_train: (225525, 7)\n",
      "Tamaño de X_test: (56382, 7)\n"
     ]
    }
   ],
   "source": [
    "# Ruta del archivo CSV\n",
    "file_path =r'/Users/Camilo/Documents/tfm/TFM_inmobiliario_main/TFM_inmobiliario/datamunging/consolidated_data.csv' \n",
    "# Leer el archivo CSV en un DataFrame\n",
    "df = pd.read_csv(file_path, sep = ',')\n",
    "# Verificar el tamaño del DataFrame\n",
    "print(f\"Tamaño del DataFrame: {df.shape}\")\n",
    "# Eliminar filas donde 'precio' es NaN, 0, o infinito\n",
    "df = df[~df['precio'].isin([0, np.inf, -np.inf]) & df['precio'].notna()]\n",
    "# Separar características y variable objetivo\n",
    "X = df.drop('precio', axis=1)\n",
    "y = df['precio']\n",
    "# Imputar valores NaN en y con la mediana\n",
    "y = y.fillna(y.median())\n",
    "# Identificar columnas numéricas\n",
    "num_cols = X.select_dtypes(include=['int64', 'float64']).columns\n",
    "# Preprocesamiento para columnas numéricas\n",
    "num_transformer = Pipeline(steps=[\n",
    "    ('imputer', SimpleImputer(strategy='constant', fill_value=0)),\n",
    "    ('scaler', StandardScaler())\n",
    "])\n",
    "# Combinar preprocesadores solo para columnas numéricas\n",
    "preprocessor = ColumnTransformer(\n",
    "    transformers=[\n",
    "        ('num', num_transformer, num_cols)\n",
    "    ])\n",
    "# Crear pipelines para RandomForest y LinearRegression\n",
    "rf_pipeline = Pipeline([\n",
    "    ('preprocessor', preprocessor),\n",
    "    ('regressor', RandomForestRegressor(n_estimators=100, random_state=42))\n",
    "])\n",
    "\n",
    "lr_pipeline = Pipeline([\n",
    "    ('preprocessor', preprocessor),\n",
    "    ('regressor', LinearRegression())\n",
    "])\n",
    "# Dividir el conjunto de datos en entrenamiento y prueba\n",
    "X_train, X_test, y_train, y_test = train_test_split(X[num_cols], y, test_size=0.2, random_state=42)\n",
    "# Verificar tamaños de conjuntos de entrenamiento y prueba\n",
    "print(f\"Tamaño de X_train: {X_train.shape}\")\n",
    "print(f\"Tamaño de X_test: {X_test.shape}\")\n",
    "# Entrenar y evaluar el modelo de RandomForest\n",
    "rf_pipeline.fit(X_train, y_train)\n",
    "\n",
    "joblib.dump(rf_pipeline, 'modelo_test.pkl')\n",
    "y_pred_rf = rf_pipeline.predict(X_test)\n",
    "mae_rf = mean_absolute_error(y_test, y_pred_rf)\n",
    "mse_rf = mean_squared_error(y_test, y_pred_rf)\n",
    "rmse_rf = np.sqrt(mse_rf)\n",
    "r2_rf = r2_score(y_test, y_pred_rf)"
   ]
  },
  {
   "cell_type": "code",
   "execution_count": 4,
   "id": "2d26adb3",
   "metadata": {},
   "outputs": [
    {
     "data": {
      "text/plain": [
       "Index(['sub_descr', 'href', 'ubicacion', 'habitaciones', 'banios', 'mt2',\n",
       "       'otros', 'latitude', 'longitude', 'planta', 'CCAA', 'fuente_datos',\n",
       "       'alquiler_venta', 'fecha_extract', 'publicado_hace', 'plataforma',\n",
       "       'raw_json'],\n",
       "      dtype='object')"
      ]
     },
     "execution_count": 4,
     "metadata": {},
     "output_type": "execute_result"
    }
   ],
   "source": [
    "X.columns"
   ]
  }
 ],
 "metadata": {
  "kernelspec": {
   "display_name": "Python 3 (ipykernel)",
   "language": "python",
   "name": "python3"
  },
  "language_info": {
   "codemirror_mode": {
    "name": "ipython",
    "version": 3
   },
   "file_extension": ".py",
   "mimetype": "text/x-python",
   "name": "python",
   "nbconvert_exporter": "python",
   "pygments_lexer": "ipython3",
   "version": "3.12.5"
  }
 },
 "nbformat": 4,
 "nbformat_minor": 5
}
