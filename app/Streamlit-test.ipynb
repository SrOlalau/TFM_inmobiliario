{
 "cells": [
  {
   "cell_type": "code",
   "execution_count": null,
   "id": "9e533dce-c672-40b6-af96-8e4ec6d68864",
   "metadata": {},
   "outputs": [
    {
     "data": {
      "text/plain": [
       "DeltaGenerator()"
      ]
     },
     "execution_count": 32,
     "metadata": {},
     "output_type": "execute_result"
    }
   ],
   "source": [
    "import pandas as pd\n",
    "import numpy as np\n",
    "from sklearn.model_selection import train_test_split\n",
    "from sklearn.preprocessing import StandardScaler\n",
    "from sklearn.compose import ColumnTransformer\n",
    "from sklearn.pipeline import Pipeline\n",
    "from sklearn.impute import SimpleImputer\n",
    "from sklearn.metrics import mean_absolute_error, mean_squared_error, r2_score\n",
    "from sklearn.ensemble import RandomForestRegressor\n",
    "from sklearn.linear_model import LinearRegression\n",
    "import os\n",
    "import joblib\n",
    "import streamlit as st\n",
    "# Para cargar tu modelo de machine learning\n",
    "\n",
    "# Cargar el modelo de machine learning\n",
    "model = joblib.load('modelo_test.pkl')\n",
    "\n",
    "# Título de la aplicación\n",
    "st.title('Predicción de Precios de Habitaciones en España')\n",
    "\n",
    "# Entrada de parámetros del usuario\n",
    "habitaciones = st.number_input('Número de habitaciones', min_value=1, max_value=10, value=3)\n",
    "banos = st.number_input('Número de baños', min_value=1, max_value=5, value=2)\n",
    "m2 = st.number_input('Metros cuadrados', min_value=30, max_value=800, value=100)\n",
    "longitud = st.number_input('Longitud', value=40.0)\n",
    "latitud = st.number_input('Latitud', value=-3.7)\n",
    "publicado_hace = st.number_input('Días desde la publicación', min_value=0, max_value=365, value=30)\n",
    "\n",
    "# Botón para realizar la predicción\n",
    "if st.button('Predecir Precio'):\n",
    "    # Crear un DataFrame con los parámetros\n",
    "    input_data = pd.DataFrame({\n",
    "    'banios': [valor_banios],\n",
    "    'publicado_hace': [valor_publicado_hace],\n",
    "    'longitude': [valor_longitude],\n",
    "    'planta': [valor_planta],\n",
    "    'latitude': [valor_latitude],\n",
    "    'mt2': [valor_mt2],\n",
    "    # Agregar todas las demás columnas necesarias\n",
    "})\n",
    "    \n",
    "    # Realizar la predicción\n",
    "    prediccion = model.predict(input_data)\n",
    "    \n",
    "    # Mostrar el resultado\n",
    "    st.write(f'El precio estimado de la habitación es: {prediccion[0]:,.2f} €')\n",
    "\n",
    "# Visualización de un mapa (opcional)\n",
    "st.map(pd.DataFrame({'lat': [latitud], 'lon': [longitud]}))\n"
   ]
  }
 ],
 "metadata": {
  "kernelspec": {
   "display_name": "Python 3 (ipykernel)",
   "language": "python",
   "name": "python3"
  },
  "language_info": {
   "codemirror_mode": {
    "name": "ipython",
    "version": 3
   },
   "file_extension": ".py",
   "mimetype": "text/x-python",
   "name": "python",
   "nbconvert_exporter": "python",
   "pygments_lexer": "ipython3",
   "version": "3.12.5"
  }
 },
 "nbformat": 4,
 "nbformat_minor": 5
}
