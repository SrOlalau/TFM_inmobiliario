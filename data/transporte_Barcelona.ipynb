{
 "cells": [
  {
   "cell_type": "code",
   "execution_count": 1,
   "id": "aa5a31d7-ff36-4d16-b64b-328a86a083b3",
   "metadata": {},
   "outputs": [],
   "source": [
    "import pandas as pd\n",
    "\n",
    "# Definir las rutas de los archivos\n",
    "file_path_bus = 'C:/Users/Lenovo/Documents/Master BD/TFM/Paradas transporte publico Barcelona/ESTACIONS_BUS_Barcelona.csv'\n",
    "file_path_otros = 'C:/Users/Lenovo/Documents/Master BD/TFM/Paradas transporte publico Barcelona/otros_BARCELONA.csv'\n",
    "\n",
    "# Leer los archivos CSV\n",
    "df_bus = pd.read_csv(file_path_bus)\n",
    "df_otros = pd.read_csv(file_path_otros)\n",
    "\n",
    "\n",
    "\n"
   ]
  },
  {
   "cell_type": "code",
   "execution_count": 2,
   "id": "8ccf7753-d8ff-4ec8-803d-5e7afad1adc6",
   "metadata": {},
   "outputs": [
    {
     "name": "stdout",
     "output_type": "stream",
     "text": [
      "  CODI_CAPA                     CAPA_GENERICA          NOM_CAPA  ED50_COORD_X  \\\n",
      "0      K014  Transports i serveis relacionats  Autobusos diürns    425423.301   \n",
      "1      K014  Transports i serveis relacionats  Autobusos diürns    431424.589   \n",
      "2      K014  Transports i serveis relacionats  Autobusos diürns    431141.119   \n",
      "3      K014  Transports i serveis relacionats  Autobusos diürns    426071.156   \n",
      "4      K014  Transports i serveis relacionats  Autobusos diürns    425186.978   \n",
      "\n",
      "   ED50_COORD_Y  ETRS89_COORD_X  ETRS89_COORD_Y  LONGITUD    LATITUD  \\\n",
      "0   4584014.032      425331.416     4583813.083  2.106711  41.402393   \n",
      "1   4589242.768      431332.650     4589041.769  2.177905  41.450021   \n",
      "2   4589147.753      431049.183     4588946.754  2.174522  41.449141   \n",
      "3   4581210.425      425979.264     4581009.501  2.114803  41.377203   \n",
      "4   4585316.419      425095.096     4585115.458  2.103723  41.414101   \n",
      "\n",
      "             EQUIPAMENT  DISTRICTE  BARRI        NOM_DISTRICTE  \\\n",
      "0            BUS -130--          5     23  Sarrià-Sant Gervasi   \n",
      "1            BUS -127--          8     50           Nou Barris   \n",
      "2            BUS -127--          8     50           Nou Barris   \n",
      "3  BUS -54-157-D20-H8--          4     20            Les Corts   \n",
      "4            BUS -128--          5     22  Sarrià-Sant Gervasi   \n",
      "\n",
      "                               NOM_BARRI ADRECA  TELEFON  \n",
      "0                                 Sarrià    NaN      NaN  \n",
      "1                           les Roquetes    NaN      NaN  \n",
      "2                           les Roquetes    NaN      NaN  \n",
      "3             la Maternitat i Sant Ramon    NaN      NaN  \n",
      "4  Vallvidrera, el Tibidabo i les Planes    NaN      NaN  \n"
     ]
    }
   ],
   "source": [
    "# Inspeccionar \n",
    "print(df_bus.head())"
   ]
  },
  {
   "cell_type": "code",
   "execution_count": 3,
   "id": "989e9108-0d64-4b97-bed6-a533654090f3",
   "metadata": {},
   "outputs": [
    {
     "name": "stdout",
     "output_type": "stream",
     "text": [
      "  CODI_CAPA                     CAPA_GENERICA                        NOM_CAPA  \\\n",
      "0      K004  Transports i serveis relacionats               Tren a l'aeroport   \n",
      "1      K002  Transports i serveis relacionats  Ferrocarrils Generalitat (FGC)   \n",
      "2      K002  Transports i serveis relacionats  Ferrocarrils Generalitat (FGC)   \n",
      "3      K001  Transports i serveis relacionats      Metro i línies urbanes FGC   \n",
      "4      K001  Transports i serveis relacionats      Metro i línies urbanes FGC   \n",
      "\n",
      "   ED50_COORD_X  ED50_COORD_Y  ETRS89_COORD_X  ETRS89_COORD_Y  LONGITUD  \\\n",
      "0    432343.180   4584819.321      432251.231     4584618.362  2.189397   \n",
      "1    427818.595   4583478.761      427726.688     4583277.816  2.135427   \n",
      "2    428146.731   4584356.984      428054.821     4584156.031  2.139248   \n",
      "3    432161.470   4584722.980      432069.523     4584522.022  2.187234   \n",
      "4    431886.081   4587016.870      431794.137     4586815.891  2.183681   \n",
      "\n",
      "     LATITUD                          EQUIPAMENT  DISTRICTE  BARRI  \\\n",
      "0  41.410259               Tren AEROPORT - CLOT-       10.0   65.0   \n",
      "1  41.397791                     FGC - BONANOVA-        5.0   26.0   \n",
      "2  41.405731                    FGC - EL PUTXET-        5.0   27.0   \n",
      "3  41.409376           Clot (Aragó / Meridiana)-       10.0   65.0   \n",
      "4  41.430013  Fabra i Puig (Avinguda Meridiana)-        9.0   60.0   \n",
      "\n",
      "         NOM_DISTRICTE               NOM_BARRI ADRECA TELEFON  \n",
      "0           Sant Martí                 el Clot    NaN     NaN  \n",
      "1  Sarrià-Sant Gervasi  Sant Gervasi - Galvany    NaN     NaN  \n",
      "2  Sarrià-Sant Gervasi    el Putxet i el Farró    NaN     NaN  \n",
      "3           Sant Martí                 el Clot    NaN     NaN  \n",
      "4          Sant Andreu             Sant Andreu    NaN     NaN  \n"
     ]
    }
   ],
   "source": [
    "print(df_otros.head())"
   ]
  },
  {
   "cell_type": "code",
   "execution_count": 4,
   "id": "5dd7ea1c-119f-4c1b-943b-909987c6adaa",
   "metadata": {},
   "outputs": [
    {
     "name": "stdout",
     "output_type": "stream",
     "text": [
      "  CODI_CAPA                     CAPA_GENERICA          NOM_CAPA  ED50_COORD_X  \\\n",
      "0      K014  Transports i serveis relacionats  Autobusos diürns    425423.301   \n",
      "1      K014  Transports i serveis relacionats  Autobusos diürns    431424.589   \n",
      "2      K014  Transports i serveis relacionats  Autobusos diürns    431141.119   \n",
      "3      K014  Transports i serveis relacionats  Autobusos diürns    426071.156   \n",
      "4      K014  Transports i serveis relacionats  Autobusos diürns    425186.978   \n",
      "\n",
      "   ED50_COORD_Y  ETRS89_COORD_X  ETRS89_COORD_Y  LONGITUD    LATITUD  \\\n",
      "0   4584014.032      425331.416     4583813.083  2.106711  41.402393   \n",
      "1   4589242.768      431332.650     4589041.769  2.177905  41.450021   \n",
      "2   4589147.753      431049.183     4588946.754  2.174522  41.449141   \n",
      "3   4581210.425      425979.264     4581009.501  2.114803  41.377203   \n",
      "4   4585316.419      425095.096     4585115.458  2.103723  41.414101   \n",
      "\n",
      "             EQUIPAMENT  DISTRICTE  BARRI        NOM_DISTRICTE  \\\n",
      "0            BUS -130--        5.0   23.0  Sarrià-Sant Gervasi   \n",
      "1            BUS -127--        8.0   50.0           Nou Barris   \n",
      "2            BUS -127--        8.0   50.0           Nou Barris   \n",
      "3  BUS -54-157-D20-H8--        4.0   20.0            Les Corts   \n",
      "4            BUS -128--        5.0   22.0  Sarrià-Sant Gervasi   \n",
      "\n",
      "                               NOM_BARRI ADRECA TELEFON  \n",
      "0                                 Sarrià    NaN     NaN  \n",
      "1                           les Roquetes    NaN     NaN  \n",
      "2                           les Roquetes    NaN     NaN  \n",
      "3             la Maternitat i Sant Ramon    NaN     NaN  \n",
      "4  Vallvidrera, el Tibidabo i les Planes    NaN     NaN  \n"
     ]
    }
   ],
   "source": [
    "# Concatenar los datasets\n",
    "df_transporte_Barcelona = pd.concat([df_bus, df_otros], ignore_index=True)\n",
    "\n",
    "# Verificar el DataFrame resultante\n",
    "print(df_transporte_Barcelona.head())"
   ]
  },
  {
   "cell_type": "code",
   "execution_count": 5,
   "id": "07224758-035d-49fa-84be-9e5f4120379f",
   "metadata": {},
   "outputs": [
    {
     "name": "stdout",
     "output_type": "stream",
     "text": [
      "  CODI_CAPA                     CAPA_GENERICA          NOM_CAPA  \\\n",
      "0      K014  Transports i serveis relacionats  Autobusos diürns   \n",
      "1      K014  Transports i serveis relacionats  Autobusos diürns   \n",
      "2      K014  Transports i serveis relacionats  Autobusos diürns   \n",
      "3      K014  Transports i serveis relacionats  Autobusos diürns   \n",
      "4      K014  Transports i serveis relacionats  Autobusos diürns   \n",
      "\n",
      "   ETRS89_COORD_X  ETRS89_COORD_Y  LONGITUD    LATITUD            EQUIPAMENT  \\\n",
      "0      425331.416     4583813.083  2.106711  41.402393            BUS -130--   \n",
      "1      431332.650     4589041.769  2.177905  41.450021            BUS -127--   \n",
      "2      431049.183     4588946.754  2.174522  41.449141            BUS -127--   \n",
      "3      425979.264     4581009.501  2.114803  41.377203  BUS -54-157-D20-H8--   \n",
      "4      425095.096     4585115.458  2.103723  41.414101            BUS -128--   \n",
      "\n",
      "   DISTRICTE  BARRI        NOM_DISTRICTE  \\\n",
      "0        5.0   23.0  Sarrià-Sant Gervasi   \n",
      "1        8.0   50.0           Nou Barris   \n",
      "2        8.0   50.0           Nou Barris   \n",
      "3        4.0   20.0            Les Corts   \n",
      "4        5.0   22.0  Sarrià-Sant Gervasi   \n",
      "\n",
      "                               NOM_BARRI  \n",
      "0                                 Sarrià  \n",
      "1                           les Roquetes  \n",
      "2                           les Roquetes  \n",
      "3             la Maternitat i Sant Ramon  \n",
      "4  Vallvidrera, el Tibidabo i les Planes  \n"
     ]
    }
   ],
   "source": [
    "# Eliminar las columnas 'ADRECA' y 'TELEFON'\n",
    "df_transporte_Barcelona = df_transporte_Barcelona.drop(columns=['ADRECA', 'TELEFON', 'ED50_COORD_X', 'ED50_COORD_Y'])\n",
    "\n",
    "# Verificar el DataFrame resultante\n",
    "print(df_transporte_Barcelona.head())"
   ]
  },
  {
   "cell_type": "code",
   "execution_count": 6,
   "id": "88081e84-245a-43d4-ae89-71068b74b343",
   "metadata": {},
   "outputs": [],
   "source": [
    "# Guardar el DataFrame resultante en un archivo CSV (opcional)\n",
    "df_transporte_Barcelona.to_csv('C:/Users/Lenovo/Documents/Master BD/TFM/Paradas transporte publico Barcelona/dataset_transporte_Barcelona.csv', index=False)"
   ]
  },
  {
   "cell_type": "code",
   "execution_count": null,
   "id": "fb83f8aa-67cd-45aa-a067-6810512d9273",
   "metadata": {},
   "outputs": [],
   "source": []
  }
 ],
 "metadata": {
  "kernelspec": {
   "display_name": "Python 3 (ipykernel)",
   "language": "python",
   "name": "python3"
  },
  "language_info": {
   "codemirror_mode": {
    "name": "ipython",
    "version": 3
   },
   "file_extension": ".py",
   "mimetype": "text/x-python",
   "name": "python",
   "nbconvert_exporter": "python",
   "pygments_lexer": "ipython3",
   "version": "3.12.0"
  }
 },
 "nbformat": 4,
 "nbformat_minor": 5
}
