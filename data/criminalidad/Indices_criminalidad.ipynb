{
 "cells": [
  {
   "cell_type": "code",
   "execution_count": 10,
   "id": "fc96e181-1eb7-4566-afbf-413de733da80",
   "metadata": {},
   "outputs": [],
   "source": [
    "import pandas as pd\n",
    "\n",
    "# Leer los archivos\n",
    "file_path = ('C:/Users/Lenovo/Documents/Master BD/TFM/DATOS EN FORMATO REUTILIZABLE ABRIL 2024.xlsx')\n",
    "hojas_interes = ['SEGURIDAD', 'PERS. DETENIDAS X DISTRITOS', 'ACCIDENTES', 'EXPEDIENTES OAC', 'VENTA AMBULANTE', 'AA.TT.']"
   ]
  },
  {
   "cell_type": "code",
   "execution_count": 11,
   "id": "3d3e58f9-01c0-4d4a-bc31-4f82eb4c84a5",
   "metadata": {},
   "outputs": [],
   "source": [
    "# Crear un diccionario para almacenar los DataFrames con el nombre de cada hoja\n",
    "dfs = {}\n",
    "\n",
    "# Leer cada hoja de interés y almacenarla en el diccionario\n",
    "for hoja in hojas_interes:\n",
    "    df = pd.read_excel(file_path, sheet_name=hoja, header=2)  # Usar header=2 para que tome los títulos correctos\n",
    "    dfs[hoja] = df"
   ]
  },
  {
   "cell_type": "code",
   "execution_count": 12,
   "id": "6857d74f-fc23-47b8-9b2e-6f5595691c6e",
   "metadata": {},
   "outputs": [
    {
     "name": "stdout",
     "output_type": "stream",
     "text": [
      "Primeras filas de la hoja 'SEGURIDAD':\n",
      "    DISTRITOS  RELACIONADAS CON LAS PERSONAS  RELACIONADAS CON EL PATRIMONIO  \\\n",
      "0      CENTRO                             25                              87   \n",
      "1  ARGANZUELA                              6                               6   \n",
      "2      RETIRO                              0                               3   \n",
      "3   SALAMANCA                             10                              47   \n",
      "4   CHAMARTÍN                              6                              12   \n",
      "\n",
      "   POR TENENCIA DE ARMAS  POR TENENCIA DE DROGAS  POR CONSUMO DE DROGAS  \n",
      "0                      4                     123                      9  \n",
      "1                      1                      20                      3  \n",
      "2                      0                       3                      1  \n",
      "3                      1                      22                      1  \n",
      "4                      0                      56                     16   \n",
      "\n",
      "Primeras filas de la hoja 'PERS. DETENIDAS X DISTRITOS':\n",
      "    DISTRITOS  PERSONAS DETENIDAS E INVESTIGADAS\n",
      "0      CENTRO                                149\n",
      "1  ARGANZUELA                                 28\n",
      "2      RETIRO                                 12\n",
      "3   SALAMANCA                                 61\n",
      "4   CHAMARTÍN                                 21 \n",
      "\n",
      "Primeras filas de la hoja 'ACCIDENTES':\n",
      "    DISTRITOS  CON VICTIMAS  SIN VICTIMAS\n",
      "0      CENTRO            60            58\n",
      "1  ARGANZUELA            28            62\n",
      "2      RETIRO            48            59\n",
      "3   SALAMANCA            52            56\n",
      "4   CHAMARTÍN            72            81 \n",
      "\n",
      "Primeras filas de la hoja 'EXPEDIENTES OAC':\n",
      "   COMISARÍAS  EXPEDIENTES\n",
      "0      CENTRO           57\n",
      "1  ARGANZUELA           18\n",
      "2      RETIRO           12\n",
      "3   SALAMANCA           29\n",
      "4   CHAMARTÍN           12 \n",
      "\n",
      "Primeras filas de la hoja 'VENTA AMBULANTE':\n",
      "    DISTRITOS  PROPIEDAD INTELECTUAL E INDUSTRIAL  INFRACCIONES ALIMENTARIAS\n",
      "0      CENTRO                                 119                         25\n",
      "1  ARGANZUELA                                  11                          4\n",
      "2      RETIRO                                  22                          8\n",
      "3   SALAMANCA                                   0                          2\n",
      "4   CHAMARTÍN                                  28                         28 \n",
      "\n",
      "Primeras filas de la hoja 'AA.TT.':\n",
      "    DISTRITOS  EXPEDIENTES INSTRUIDOS  CONTACTOS CON CENTROS ESCOLARES\n",
      "0      CENTRO                      13                               11\n",
      "1  ARGANZUELA                       0                                9\n",
      "2      RETIRO                       4                               27\n",
      "3   SALAMANCA                       5                               12\n",
      "4   CHAMARTÍN                      13                               37 \n",
      "\n"
     ]
    }
   ],
   "source": [
    "# Mostrar las primeras filas de cada DataFrame para verificar\n",
    "for hoja, df in dfs.items():\n",
    "    print(f\"Primeras filas de la hoja '{hoja}':\")\n",
    "    print(df.head(), \"\\n\")"
   ]
  },
  {
   "cell_type": "code",
   "execution_count": 14,
   "id": "b4a34326-6a8c-4da4-b010-565af1e22615",
   "metadata": {},
   "outputs": [],
   "source": [
    "# Guardar cada DataFrame en un archivo CSV (opcional)\n",
    "for hoja, df in dfs.items():\n",
    "    df.to_csv(f'C:/Users/Lenovo/Documents/Master BD/TFM/IND. CRIMINALIDAD/{hoja.lower().replace(\" \", \"_\")}.csv', index=False)"
   ]
  },
  {
   "cell_type": "code",
   "execution_count": 25,
   "id": "57ac2871-d87e-45ec-a3c0-c064462a775f",
   "metadata": {
    "scrolled": true
   },
   "outputs": [
    {
     "name": "stdout",
     "output_type": "stream",
     "text": [
      "     DISTRITOS  EXPEDIENTES INSTRUIDOS  CONTACTOS CON CENTROS ESCOLARES  \\\n",
      "0   ARGANZUELA                     0.0                              9.0   \n",
      "1      BARAJAS                     0.0                             31.0   \n",
      "2  CARABANCHEL                    13.0                             22.0   \n",
      "3       CENTRO                    13.0                             11.0   \n",
      "4    CHAMARTÍN                    13.0                             37.0   \n",
      "\n",
      "   CON VICTIMAS  SIN VICTIMAS  EXPEDIENTES  PERSONAS DETENIDAS E INVESTIGADAS  \\\n",
      "0          28.0          62.0         18.0                               28.0   \n",
      "1           9.0          23.0          3.0                               11.0   \n",
      "2          46.0          68.0         59.0                               69.0   \n",
      "3          60.0          58.0         57.0                              149.0   \n",
      "4          72.0          81.0         12.0                               21.0   \n",
      "\n",
      "   RELACIONADAS CON LAS PERSONAS  RELACIONADAS CON EL PATRIMONIO  \\\n",
      "0                            6.0                             6.0   \n",
      "1                            1.0                            10.0   \n",
      "2                           25.0                            18.0   \n",
      "3                           25.0                            87.0   \n",
      "4                            6.0                            12.0   \n",
      "\n",
      "   POR TENENCIA DE ARMAS  POR TENENCIA DE DROGAS  POR CONSUMO DE DROGAS  \\\n",
      "0                    1.0                    20.0                    3.0   \n",
      "1                    1.0                    48.0                    1.0   \n",
      "2                    6.0                    29.0                    0.0   \n",
      "3                    4.0                   123.0                    9.0   \n",
      "4                    0.0                    56.0                   16.0   \n",
      "\n",
      "   PROPIEDAD INTELECTUAL E INDUSTRIAL  INFRACCIONES ALIMENTARIAS  \n",
      "0                                11.0                        4.0  \n",
      "1                                 0.0                       37.0  \n",
      "2                                14.0                      127.0  \n",
      "3                               119.0                       25.0  \n",
      "4                                28.0                       28.0  \n"
     ]
    }
   ],
   "source": [
    "# Definir la ruta de los archivos CSV\n",
    "ruta_base = 'C:/Users/Lenovo/Documents/Master BD/TFM/IND. CRIMINALIDAD/'\n",
    "\n",
    "# Lista de archivos CSV\n",
    "archivos_csv = [\n",
    "    'aa.tt..csv',\n",
    "    'accidentes.csv',\n",
    "    'expedientes_oac.csv',\n",
    "    'pers._detenidas_x_distritos.csv',\n",
    "    'seguridad.csv',\n",
    "    'venta_ambulante.csv'\n",
    "]\n",
    "\n",
    "# Leer los archivos CSV en un diccionario de DataFrames\n",
    "dfs = {archivo: pd.read_csv(ruta_base + archivo) for archivo in archivos_csv}\n",
    "\n",
    "# Cambiar el nombre de la columna 'COMISARAS' a 'DISTRITOS' en el DataFrame 'expedientes_oac.csv'\n",
    "if 'COMISARAS' in dfs['expedientes_oac.csv'].columns:\n",
    "    dfs['expedientes_oac.csv'].rename(columns={'COMISARAS': 'DISTRITOS'}, inplace=True)\n",
    "    \n",
    "# Verificar que todos los DataFrames tienen la columna 'DISTRITOS'\n",
    "for archivo, df in dfs.items():\n",
    "    if 'DISTRITOS' not in df.columns:\n",
    "        print(f\"El archivo {archivo} no contiene la columna 'DISTRITOS'. Las columnas son: {df.columns}\")\n",
    "\n",
    "# Inicializar el DataFrame final con el primer DataFrame de la lista\n",
    "df_ind_criminalidad = dfs[archivos_csv[0]]\n",
    "\n",
    "# Realizar un outer join con los demás DataFrames basado en la columna 'DISTRITOS'\n",
    "for archivo in archivos_csv[1:]:\n",
    "    if 'DISTRITOS' in dfs[archivo].columns:\n",
    "        df_ind_criminalidad = pd.merge(df_ind_criminalidad, dfs[archivo], on='DISTRITOS', how='outer')\n",
    "    else:\n",
    "        print(f\"Omitiendo el archivo {archivo} porque no tiene la columna 'DISTRITOS'.\")\n",
    "\n",
    "# Verificar el DataFrame resultante\n",
    "print(df_ind_criminalidad.head())\n",
    "\n"
   ]
  },
  {
   "cell_type": "code",
   "execution_count": 26,
   "id": "8688925f-b2d8-476e-afc0-c26ad2cebde4",
   "metadata": {},
   "outputs": [],
   "source": [
    "# Guardar el DataFrame resultante en un archivo CSV\n",
    "df_ind_criminalidad.to_csv(ruta_base + 'df_ind_criminalidad.csv', index=False)"
   ]
  },
  {
   "cell_type": "code",
   "execution_count": 5,
   "id": "10468288-a011-4894-b60c-03400fa83b67",
   "metadata": {},
   "outputs": [
    {
     "name": "stdout",
     "output_type": "stream",
     "text": [
      "                 DISTRITOS  RELACIONADAS CON LAS PERSONAS  \\\n",
      "133              VICÁLVARO                            NaN   \n",
      "134  SAN BLAS - CANILLEJAS                            NaN   \n",
      "135                BARAJAS                            NaN   \n",
      "136  SIN DISTRITO ASIGNADO                            NaN   \n",
      "137                  TOTAL                            NaN   \n",
      "\n",
      "     RELACIONADAS CON EL PATRIMONIO  POR TENENCIA DE ARMAS  \\\n",
      "133                             NaN                    NaN   \n",
      "134                             NaN                    NaN   \n",
      "135                             NaN                    NaN   \n",
      "136                             NaN                    NaN   \n",
      "137                             NaN                    NaN   \n",
      "\n",
      "     POR TENENCIA DE DROGAS  POR CONSUMO DE DROGAS    Hoja  \\\n",
      "133                     NaN                    NaN  AA.TT.   \n",
      "134                     NaN                    NaN  AA.TT.   \n",
      "135                     NaN                    NaN  AA.TT.   \n",
      "136                     NaN                    NaN  AA.TT.   \n",
      "137                     NaN                    NaN  AA.TT.   \n",
      "\n",
      "     PERSONAS DETENIDAS E INVESTIGADAS  CON VICTIMAS  SIN VICTIMAS COMISARÍAS  \\\n",
      "133                                NaN           NaN           NaN        NaN   \n",
      "134                                NaN           NaN           NaN        NaN   \n",
      "135                                NaN           NaN           NaN        NaN   \n",
      "136                                NaN           NaN           NaN        NaN   \n",
      "137                                NaN           NaN           NaN        NaN   \n",
      "\n",
      "     EXPEDIENTES  PROPIEDAD INTELECTUAL E INDUSTRIAL  \\\n",
      "133          NaN                                 NaN   \n",
      "134          NaN                                 NaN   \n",
      "135          NaN                                 NaN   \n",
      "136          NaN                                 NaN   \n",
      "137          NaN                                 NaN   \n",
      "\n",
      "     INFRACCIONES ALIMENTARIAS  EXPEDIENTES INSTRUIDOS  \\\n",
      "133                        NaN                     0.0   \n",
      "134                        NaN                     9.0   \n",
      "135                        NaN                     0.0   \n",
      "136                        NaN                     0.0   \n",
      "137                        NaN                   162.0   \n",
      "\n",
      "     CONTACTOS CON CENTROS ESCOLARES  \n",
      "133                             22.0  \n",
      "134                             25.0  \n",
      "135                             31.0  \n",
      "136                              0.0  \n",
      "137                            525.0  \n"
     ]
    }
   ],
   "source": [
    "# Eliminar las columnas que contienen solo valores NaN\n",
    "df_ind_criminalidad_Madrid = df_ind_criminalidad_Madr.dropna(axis=1, how='all')\n",
    "\n",
    "# Verificar el DataFrame resultante\n",
    "print(df_ind_criminalidad_Madrid.tail())"
   ]
  },
  {
   "cell_type": "code",
   "execution_count": null,
   "id": "8b118178-a66a-4c79-b385-feb0519fc55d",
   "metadata": {},
   "outputs": [],
   "source": [
    "# Guardar el DataFrame resultante en un archivo CSV \n",
    "df_ind_criminalidad_Madrid.to_csv('C:/Users/Lenovo/Documents/Master BD/TFM/df_ind_criminalidad_Madrid_abr2024.csv', index=False)"
   ]
  },
  {
   "cell_type": "code",
   "execution_count": null,
   "id": "6549b647-f4ef-40da-bd22-e9135a4eda2a",
   "metadata": {},
   "outputs": [],
   "source": []
  },
  {
   "cell_type": "code",
   "execution_count": null,
   "id": "4de5311c-973d-4320-935b-af6edd189093",
   "metadata": {},
   "outputs": [],
   "source": []
  },
  {
   "cell_type": "code",
   "execution_count": null,
   "id": "d731c9ea-3c55-4029-ae15-1add494a048e",
   "metadata": {},
   "outputs": [],
   "source": [
    "sevilla_df = pd.read_csv('C:/Users/Lenovo/Documents/Master BD/TFM/en_sevilla_se_han_cometido_53.810_infracciones_penales_hasta_el_trimestre_4_de_2023.csv')\n",
    "nacional_df = pd.read_csv('C:/Users/Lenovo/Documents/Master BD/TFM/Indices criminalidad nacional por regiones.csv')\n",
    "barcelona_df = pd.read_excel('C:/Users/Lenovo/Documents/Master BD/TFM/DATOS CRIMINALIDAD POR DISTRITOS BARCELONA.xlsx')"
   ]
  }
 ],
 "metadata": {
  "kernelspec": {
   "display_name": "Python 3 (ipykernel)",
   "language": "python",
   "name": "python3"
  },
  "language_info": {
   "codemirror_mode": {
    "name": "ipython",
    "version": 3
   },
   "file_extension": ".py",
   "mimetype": "text/x-python",
   "name": "python",
   "nbconvert_exporter": "python",
   "pygments_lexer": "ipython3",
   "version": "3.12.0"
  }
 },
 "nbformat": 4,
 "nbformat_minor": 5
}
