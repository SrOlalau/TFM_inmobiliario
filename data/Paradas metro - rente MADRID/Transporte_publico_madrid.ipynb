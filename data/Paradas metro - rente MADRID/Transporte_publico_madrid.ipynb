{
 "cells": [
  {
   "cell_type": "code",
   "execution_count": 1,
   "id": "2dd572a8-3697-436e-b8d8-254ea63b8a9d",
   "metadata": {},
   "outputs": [
    {
     "name": "stdout",
     "output_type": "stream",
     "text": [
      "   OBJECTID  OBJECTID_1 IDESTACION  FECHAACTUAL  MODO  CODIGOESTACION  \\\n",
      "0         1       12744       5_46     20170530     5              46   \n",
      "1         2       10869       5_51     20170530     5              51   \n",
      "2         3       12376       5_57     20170530     5              57   \n",
      "3         4       13438       5_61     20170530     5              61   \n",
      "4         5        9062       5_65     20170530     5              65   \n",
      "\n",
      "         DENOMINACION                                      OBSERVACIONES  \\\n",
      "0       MENDEZ ALVARO                                                NaN   \n",
      "1  NUEVOS MINISTERIOS  Personal de atención / taquillas: SI\\r\\nParkin...   \n",
      "2           PIRAMIDES                                                NaN   \n",
      "3        PRINCIPE PIO                                Con Vía Ferrocarril   \n",
      "4           RECOLETOS                                                NaN   \n",
      "\n",
      "  SITUACION  CODIGOCTMESTACIONREDMETRO  ...  FECHAALTA  FECHAINICIO  FECHAFIN  \\\n",
      "0         I                         46  ...   20030331     19860101       NaN   \n",
      "1         I                         51  ...   20030331     19860101       NaN   \n",
      "2         I                         57  ...   20030331     19860101       NaN   \n",
      "3         I                         61  ...   20030331     19860101       NaN   \n",
      "4         I                         65  ...   20030331     19860101       NaN   \n",
      "\n",
      "        X        Y  GRADOACCESIBILIDAD  SITUACIONCALLE  DENOMINACION_SAE  \\\n",
      "0  442564  4472070                   P             NaN               NaN   \n",
      "1  441398  4477767                   T             NaN               NaN   \n",
      "2  439748  4472893                   P             NaN               NaN   \n",
      "3  439007  4474950                   N             NaN               NaN   \n",
      "4  441504  4475190                   N             NaN               NaN   \n",
      "\n",
      "   INTERURBANOS_CODIGOEMT_CRTM INTERURBANOS_CODIGOEMT_EMPRESA  \n",
      "0                          NaN                            NaN  \n",
      "1                          NaN                            NaN  \n",
      "2                          NaN                            NaN  \n",
      "3                          NaN                            NaN  \n",
      "4                          NaN                            NaN  \n",
      "\n",
      "[5 rows x 53 columns]\n",
      "   OBJECTID  OBJECTID_1 IDESTACION  FECHAACTUAL  MODO  CODIGOESTACION  \\\n",
      "0         1       12534       5_38     20170530     5              38   \n",
      "1         2        9861       5_45     20170530     5              45   \n",
      "2         3       10869       5_51     20170530     5              51   \n",
      "3         4       10860       5_59     20170530     5              59   \n",
      "4         5        9062       5_65     20170530     5              65   \n",
      "\n",
      "         DENOMINACION                                      OBSERVACIONES  \\\n",
      "0         GUADALAJARA                                     Estación RENFE   \n",
      "1                MECO                                                NaN   \n",
      "2  NUEVOS MINISTERIOS  Personal de atención / taquillas: SI\\r\\nParkin...   \n",
      "3            POZO, EL                                                NaN   \n",
      "4           RECOLETOS                                                NaN   \n",
      "\n",
      "  SITUACION  CODIGOCTMESTACIONREDMETRO  ...  FECHAALTA  FECHAINICIO  FECHAFIN  \\\n",
      "0         S                         38  ...   20030331     19860101       NaN   \n",
      "1         S                         45  ...   20030331     19860101       NaN   \n",
      "2         I                         51  ...   20030331     19860101       NaN   \n",
      "3         S                         59  ...   20030331     19860101       NaN   \n",
      "4         I                         65  ...   20030331     19860101       NaN   \n",
      "\n",
      "        X        Y  GRADOACCESIBILIDAD  SITUACIONCALLE  DENOMINACION_SAE  \\\n",
      "0  484688  4499472                   N             NaN               NaN   \n",
      "1  474816  4487348                   N             NaN               NaN   \n",
      "2  441398  4477767                   T             NaN               NaN   \n",
      "3  444402  4469894                   N             NaN               NaN   \n",
      "4  441504  4475190                   N             NaN               NaN   \n",
      "\n",
      "   INTERURBANOS_CODIGOEMT_CRTM INTERURBANOS_CODIGOEMT_EMPRESA  \n",
      "0                          NaN                            NaN  \n",
      "1                          NaN                            NaN  \n",
      "2                          NaN                            NaN  \n",
      "3                          NaN                            NaN  \n",
      "4                          NaN                            NaN  \n",
      "\n",
      "[5 rows x 53 columns]\n",
      "        stop_id  stop_code                stop_name  \\\n",
      "0      par_10_1          1       PINAR DE CHAMARTIN   \n",
      "1  acc_10_1_721          1             Arturo Soria   \n",
      "2  acc_10_1_722          1                 Ascensor   \n",
      "3      par_10_2          2        FUENTE DE LA MORA   \n",
      "4  acc_10_2_723          2  Avda. Fuente de la Mora   \n",
      "\n",
      "                        stop_desc  stop_lat  stop_lon zone_id  \\\n",
      "0       Calle de Arturo Soria 330  40.48014  -3.66684       A   \n",
      "1       Calle de Arturo Soria 330  40.48023  -3.66684     NaN   \n",
      "2       Calle de Arturo Soria 330  40.48015  -3.66694     NaN   \n",
      "3        Calle de Dulce Chacón 15  40.48482  -3.66325       A   \n",
      "4  Cmno de la Fuente de la Mora 6  40.48561  -3.66318     NaN   \n",
      "\n",
      "             stop_url  location_type parent_station  stop_timezone  \\\n",
      "0  http://www.crtm.es              0            NaN  Europe/Madrid   \n",
      "1  http://www.crtm.es              2       est_10_1            NaN   \n",
      "2  http://www.crtm.es              2       est_10_1            NaN   \n",
      "3  http://www.crtm.es              0            NaN  Europe/Madrid   \n",
      "4  http://www.crtm.es              2       est_10_2            NaN   \n",
      "\n",
      "   wheelchair_boarding  \n",
      "0                    2  \n",
      "1                    0  \n",
      "2                    0  \n",
      "3                    2  \n",
      "4                    0  \n"
     ]
    }
   ],
   "source": [
    "# Importar pandas\n",
    "import pandas as pd\n",
    "\n",
    "# Definir las rutas de los archivos\n",
    "file_path_csv1 = 'C:/Users/Lenovo/Documents/Master BD/TFM/Paradas metro - rente MADRID/Cercanias_Madrid_M5_LC1_S1.csv'\n",
    "file_path_csv2 = 'C:/Users/Lenovo/Documents/Master BD/TFM/Paradas metro - rente MADRID/Cercanias_Madrid_M5_LC2_S1.csv'\n",
    "file_path_txt = 'C:/Users/Lenovo/Documents/Master BD/TFM/Paradas metro - rente MADRID/stops.txt'\n",
    "\n",
    "# Leer los archivos CSV\n",
    "df_csv1 = pd.read_csv(file_path_csv1)\n",
    "df_csv2 = pd.read_csv(file_path_csv2)\n",
    "\n",
    "# Leer el archivo TXT con el delimitador correcto\n",
    "df_txt = pd.read_csv(file_path_txt, delimiter=',')\n",
    "\n",
    "# Inspeccionar las primeras filas de cada dataset\n",
    "print(df_csv1.head())\n",
    "print(df_csv2.head())\n",
    "print(df_txt.head())"
   ]
  },
  {
   "cell_type": "code",
   "execution_count": 2,
   "id": "ee0d261c-6fa6-42d6-84ff-ddbdb8b50794",
   "metadata": {},
   "outputs": [],
   "source": [
    "# Renombrar columna 'DENOMINACION' en los datasets de cercanías para que coincida con 'stop_name' en el dataset de paradas de metro\n",
    "df_csv1.rename(columns={'DENOMINACION': 'stop_name'}, inplace=True)\n",
    "df_csv2.rename(columns={'DENOMINACION': 'stop_name'}, inplace=True)\n",
    "\n",
    "# Unir los datasets CSV\n",
    "df_cercanias = pd.concat([df_csv1, df_csv2], ignore_index=True)\n",
    "\n",
    "# Unir el dataset de cercanías con el de paradas de metro\n",
    "df_transporte_madrid = pd.merge(df_cercanias, df_txt, on='stop_name', how='outer')\n",
    "\n"
   ]
  },
  {
   "cell_type": "code",
   "execution_count": 3,
   "id": "2208ff1d-9682-46a8-8c57-396a2f691502",
   "metadata": {},
   "outputs": [
    {
     "name": "stdout",
     "output_type": "stream",
     "text": [
      "   OBJECTID  OBJECTID_1 IDESTACION  FECHAACTUAL  MODO  CODIGOESTACION  \\\n",
      "0       8.0     14051.0      5_142   20170530.0   5.0           142.0   \n",
      "1      14.0     12671.0        5_2   20170530.0   5.0             2.0   \n",
      "2      16.0      9856.0        5_3   20170530.0   5.0             3.0   \n",
      "3       NaN         NaN        NaN          NaN   NaN             NaN   \n",
      "4       NaN         NaN        NaN          NaN   NaN             NaN   \n",
      "\n",
      "                       stop_name             OBSERVACIONES SITUACION  \\\n",
      "0                  AEROPUERTO T4                       NaN         I   \n",
      "1              ALCALÁ DE HENARES  Con Calle de Valdetorres         S   \n",
      "2  ALCALÁ DE HENARES UNIVERSIDAD              Pl Sector 20         S   \n",
      "3           ALVAREZ DE VILLAAMIL                       NaN       NaN   \n",
      "4           ALVAREZ DE VILLAAMIL                       NaN       NaN   \n",
      "\n",
      "   CODIGOCTMESTACIONREDMETRO  ...  stop_code                       stop_desc  \\\n",
      "0                      142.0  ...        NaN                             NaN   \n",
      "1                        2.0  ...        NaN                             NaN   \n",
      "2                        3.0  ...        NaN                             NaN   \n",
      "3                        NaN  ...        5.0  Calle del Príncipe Carlos 13 B   \n",
      "4                        NaN  ...        5.0  Calle del Príncipe Carlos 13 B   \n",
      "\n",
      "   stop_lat  stop_lon zone_id            stop_url  location_type  \\\n",
      "0       NaN       NaN     NaN                 NaN            NaN   \n",
      "1       NaN       NaN     NaN                 NaN            NaN   \n",
      "2       NaN       NaN     NaN                 NaN            NaN   \n",
      "3  40.48905  -3.65136       A  http://www.crtm.es            0.0   \n",
      "4  40.48905  -3.65136       A  http://www.crtm.es            1.0   \n",
      "\n",
      "   parent_station  stop_timezone wheelchair_boarding  \n",
      "0             NaN            NaN                 NaN  \n",
      "1             NaN            NaN                 NaN  \n",
      "2             NaN            NaN                 NaN  \n",
      "3             NaN  Europe/Madrid                 2.0  \n",
      "4             NaN  Europe/Madrid                 2.0  \n",
      "\n",
      "[5 rows x 64 columns]\n"
     ]
    }
   ],
   "source": [
    "# Verificar la unión\n",
    "print(df_transporte_madrid.head())"
   ]
  },
  {
   "cell_type": "code",
   "execution_count": 4,
   "id": "5c5467a9-a283-491f-9270-c163e9f212e6",
   "metadata": {},
   "outputs": [],
   "source": [
    "# Leer el nuevo archivo CSV proporcionado\n",
    "file_path_csv3 = 'C:/Users/Lenovo/Documents/Master BD/TFM/Paradas metro - rente MADRID/Cercanias_Madrid_M5_LC3_S1.csv'\n",
    "df_csv3 = pd.read_csv(file_path_csv3)\n",
    "\n",
    "# Renombrar la columna 'DENOMINACION' en el nuevo dataset para que coincida con 'stop_name'\n",
    "df_csv3.rename(columns={'DENOMINACION': 'stop_name'}, inplace=True)\n",
    "\n",
    "# Unir el nuevo dataset con el DataFrame existente df_transporte_madrid\n",
    "df_transporte_madrid = pd.concat([df_transporte_madrid, df_csv3], ignore_index=True)\n"
   ]
  },
  {
   "cell_type": "code",
   "execution_count": 5,
   "id": "962998ca-d286-4e98-b237-db2d10441fed",
   "metadata": {},
   "outputs": [],
   "source": [
    "# Leer el nuevo archivo CSV proporcionado\n",
    "file_path_csv4 = 'C:/Users/Lenovo/Documents/Master BD/TFM/Paradas metro - rente MADRID/Cercanias_Madrid_M5_LC4a_S1.csv'\n",
    "df_csv4 = pd.read_csv(file_path_csv4)\n",
    "\n",
    "# Renombrar la columna 'DENOMINACION' en el nuevo dataset para que coincida con 'stop_name'\n",
    "df_csv4.rename(columns={'DENOMINACION': 'stop_name'}, inplace=True)\n",
    "\n",
    "# Unir el nuevo dataset con el DataFrame existente df_transporte_madrid\n",
    "df_transporte_madrid = pd.concat([df_transporte_madrid, df_csv4], ignore_index=True)"
   ]
  },
  {
   "cell_type": "code",
   "execution_count": 6,
   "id": "47c9d023-e37a-442d-bb3c-79bcaf467e24",
   "metadata": {},
   "outputs": [],
   "source": [
    "# Leer el nuevo archivo CSV proporcionado\n",
    "file_path_csv5 = 'C:/Users/Lenovo/Documents/Master BD/TFM/Paradas metro - rente MADRID/Cercanias_Madrid_M5_LC4b_S1.csv'\n",
    "df_csv5 = pd.read_csv(file_path_csv5)\n",
    "\n",
    "# Renombrar la columna 'DENOMINACION' en el nuevo dataset para que coincida con 'stop_name'\n",
    "df_csv5.rename(columns={'DENOMINACION': 'stop_name'}, inplace=True)\n",
    "\n",
    "# Unir el nuevo dataset con el DataFrame existente df_transporte_madrid\n",
    "df_transporte_madrid = pd.concat([df_transporte_madrid, df_csv5], ignore_index=True)"
   ]
  },
  {
   "cell_type": "code",
   "execution_count": 7,
   "id": "415ecc10-26e4-42f8-a8fb-6e66f7865ccf",
   "metadata": {},
   "outputs": [],
   "source": [
    "# Leer el nuevo archivo CSV proporcionado\n",
    "file_path_csv6 = 'C:/Users/Lenovo/Documents/Master BD/TFM/Paradas metro - rente MADRID/Cercanias_Madrid_M5_LC5_S1.csv'\n",
    "df_csv6= pd.read_csv(file_path_csv6)\n",
    "\n",
    "# Renombrar la columna 'DENOMINACION' en el nuevo dataset para que coincida con 'stop_name'\n",
    "df_csv6.rename(columns={'DENOMINACION': 'stop_name'}, inplace=True)\n",
    "\n",
    "# Unir el nuevo dataset con el DataFrame existente df_transporte_madrid\n",
    "df_transporte_madrid = pd.concat([df_transporte_madrid, df_csv6], ignore_index=True)"
   ]
  },
  {
   "cell_type": "code",
   "execution_count": 8,
   "id": "66b1bc25-3fd7-4556-a61a-560fb8eae537",
   "metadata": {},
   "outputs": [],
   "source": [
    "# Leer el nuevo archivo CSV proporcionado\n",
    "file_path_csv7 = 'C:/Users/Lenovo/Documents/Master BD/TFM/Paradas metro - rente MADRID/Cercanias_Madrid_M5_LC7a_S1.csv'\n",
    "df_csv7= pd.read_csv(file_path_csv7)\n",
    "\n",
    "# Renombrar la columna 'DENOMINACION' en el nuevo dataset para que coincida con 'stop_name'\n",
    "df_csv7.rename(columns={'DENOMINACION': 'stop_name'}, inplace=True)\n",
    "\n",
    "# Unir el nuevo dataset con el DataFrame existente df_transporte_madrid\n",
    "df_transporte_madrid = pd.concat([df_transporte_madrid, df_csv7], ignore_index=True)"
   ]
  },
  {
   "cell_type": "code",
   "execution_count": 9,
   "id": "c7b7ecea-817e-4e8d-8dfb-3cdbc37a1ef7",
   "metadata": {},
   "outputs": [],
   "source": [
    "# Leer el nuevo archivo CSV proporcionado\n",
    "file_path_csv8 = 'C:/Users/Lenovo/Documents/Master BD/TFM/Paradas metro - rente MADRID/Cercanias_Madrid_M5_LC7b_S1.csv'\n",
    "df_csv8= pd.read_csv(file_path_csv8)\n",
    "\n",
    "# Renombrar la columna 'DENOMINACION' en el nuevo dataset para que coincida con 'stop_name'\n",
    "df_csv8.rename(columns={'DENOMINACION': 'stop_name'}, inplace=True)\n",
    "\n",
    "# Unir el nuevo dataset con el DataFrame existente df_transporte_madrid\n",
    "df_transporte_madrid = pd.concat([df_transporte_madrid, df_csv8], ignore_index=True)"
   ]
  },
  {
   "cell_type": "code",
   "execution_count": 10,
   "id": "2da8e0ab-82dd-4bfa-a0bc-2ba86a2f2f22",
   "metadata": {},
   "outputs": [],
   "source": [
    "# Leer el nuevo archivo CSV proporcionado\n",
    "file_path_csv9 = 'C:/Users/Lenovo/Documents/Master BD/TFM/Paradas metro - rente MADRID/Cercanias_Madrid_M5_LC8_S1.csv'\n",
    "df_csv9= pd.read_csv(file_path_csv9)\n",
    "\n",
    "# Renombrar la columna 'DENOMINACION' en el nuevo dataset para que coincida con 'stop_name'\n",
    "df_csv9.rename(columns={'DENOMINACION': 'stop_name'}, inplace=True)\n",
    "\n",
    "# Unir el nuevo dataset con el DataFrame existente df_transporte_madrid\n",
    "df_transporte_madrid = pd.concat([df_transporte_madrid, df_csv9], ignore_index=True)"
   ]
  },
  {
   "cell_type": "code",
   "execution_count": 11,
   "id": "1a24fe16-109b-4cae-9639-3d92f9893465",
   "metadata": {},
   "outputs": [],
   "source": [
    "# Leer el nuevo archivo CSV proporcionado\n",
    "file_path_csv10 = 'C:/Users/Lenovo/Documents/Master BD/TFM/Paradas metro - rente MADRID/Cercanias_Madrid_M5_LC9_S1.csv'\n",
    "df_csv10= pd.read_csv(file_path_csv10)\n",
    "\n",
    "# Renombrar la columna 'DENOMINACION' en el nuevo dataset para que coincida con 'stop_name'\n",
    "df_csv10.rename(columns={'DENOMINACION': 'stop_name'}, inplace=True)\n",
    "\n",
    "# Unir el nuevo dataset con el DataFrame existente df_transporte_madrid\n",
    "df_transporte_madrid = pd.concat([df_transporte_madrid, df_csv10], ignore_index=True)"
   ]
  },
  {
   "cell_type": "code",
   "execution_count": 12,
   "id": "ae3cbfcc-8e08-4dbb-903c-7736caeb844b",
   "metadata": {},
   "outputs": [],
   "source": [
    "# Leer el nuevo archivo CSV proporcionado\n",
    "file_path_csv11 = 'C:/Users/Lenovo/Documents/Master BD/TFM/Paradas metro - rente MADRID/Cercanias_Madrid_M5_LC10_S1.csv'\n",
    "df_csv11= pd.read_csv(file_path_csv11)\n",
    "\n",
    "# Renombrar la columna 'DENOMINACION' en el nuevo dataset para que coincida con 'stop_name'\n",
    "df_csv11.rename(columns={'DENOMINACION': 'stop_name'}, inplace=True)\n",
    "\n",
    "# Unir el nuevo dataset con el DataFrame existente df_transporte_madrid\n",
    "df_transporte_madrid = pd.concat([df_transporte_madrid, df_csv11], ignore_index=True)"
   ]
  },
  {
   "cell_type": "code",
   "execution_count": 13,
   "id": "0f8cbfa3-a100-4b14-8480-3e31b9ec9077",
   "metadata": {},
   "outputs": [
    {
     "name": "stdout",
     "output_type": "stream",
     "text": [
      "   OBJECTID  OBJECTID_1 IDESTACION  FECHAACTUAL  MODO  CODIGOESTACION  \\\n",
      "0       8.0     14051.0      5_142   20170530.0   5.0           142.0   \n",
      "1      14.0     12671.0        5_2   20170530.0   5.0             2.0   \n",
      "2      16.0      9856.0        5_3   20170530.0   5.0             3.0   \n",
      "3       NaN         NaN        NaN          NaN   NaN             NaN   \n",
      "4       NaN         NaN        NaN          NaN   NaN             NaN   \n",
      "\n",
      "                       stop_name             OBSERVACIONES SITUACION  \\\n",
      "0                  AEROPUERTO T4                       NaN         I   \n",
      "1              ALCALÁ DE HENARES  Con Calle de Valdetorres         S   \n",
      "2  ALCALÁ DE HENARES UNIVERSIDAD              Pl Sector 20         S   \n",
      "3           ALVAREZ DE VILLAAMIL                       NaN       NaN   \n",
      "4           ALVAREZ DE VILLAAMIL                       NaN       NaN   \n",
      "\n",
      "   CODIGOCTMESTACIONREDMETRO  ...  stop_code                       stop_desc  \\\n",
      "0                      142.0  ...        NaN                             NaN   \n",
      "1                        2.0  ...        NaN                             NaN   \n",
      "2                        3.0  ...        NaN                             NaN   \n",
      "3                        NaN  ...        5.0  Calle del Príncipe Carlos 13 B   \n",
      "4                        NaN  ...        5.0  Calle del Príncipe Carlos 13 B   \n",
      "\n",
      "   stop_lat  stop_lon zone_id            stop_url  location_type  \\\n",
      "0       NaN       NaN     NaN                 NaN            NaN   \n",
      "1       NaN       NaN     NaN                 NaN            NaN   \n",
      "2       NaN       NaN     NaN                 NaN            NaN   \n",
      "3  40.48905  -3.65136       A  http://www.crtm.es            0.0   \n",
      "4  40.48905  -3.65136       A  http://www.crtm.es            1.0   \n",
      "\n",
      "   parent_station  stop_timezone wheelchair_boarding  \n",
      "0             NaN            NaN                 NaN  \n",
      "1             NaN            NaN                 NaN  \n",
      "2             NaN            NaN                 NaN  \n",
      "3             NaN  Europe/Madrid                 2.0  \n",
      "4             NaN  Europe/Madrid                 2.0  \n",
      "\n",
      "[5 rows x 64 columns]\n"
     ]
    }
   ],
   "source": [
    "print(df_transporte_madrid.head())"
   ]
  },
  {
   "cell_type": "code",
   "execution_count": 14,
   "id": "3425246a-29d5-42ee-8c68-3ad026e2c1b5",
   "metadata": {},
   "outputs": [
    {
     "name": "stdout",
     "output_type": "stream",
     "text": [
      "OBJECTID               180\n",
      "OBJECTID_1             180\n",
      "IDESTACION             180\n",
      "FECHAACTUAL            180\n",
      "MODO                   180\n",
      "                      ... \n",
      "stop_url                96\n",
      "location_type           96\n",
      "parent_station          26\n",
      "stop_timezone           70\n",
      "wheelchair_boarding     96\n",
      "Length: 64, dtype: int64\n"
     ]
    }
   ],
   "source": [
    "print(df_transporte_madrid.count())"
   ]
  },
  {
   "cell_type": "code",
   "execution_count": 15,
   "id": "08e0dec5-3e1b-4336-899c-6ab9e6e05aa8",
   "metadata": {},
   "outputs": [
    {
     "name": "stdout",
     "output_type": "stream",
     "text": [
      "  IDESTACION  MODO  CODIGOESTACION                      stop_name  \\\n",
      "0      5_142   5.0           142.0                  AEROPUERTO T4   \n",
      "1        5_2   5.0             2.0              ALCALÁ DE HENARES   \n",
      "2        5_3   5.0             3.0  ALCALÁ DE HENARES UNIVERSIDAD   \n",
      "3        NaN   NaN             NaN           ALVAREZ DE VILLAAMIL   \n",
      "4        NaN   NaN             NaN           ALVAREZ DE VILLAAMIL   \n",
      "\n",
      "              OBSERVACIONES SITUACION  CODIGOEMPRESA  DENOMINACIONABREVIADA  \\\n",
      "0                       NaN         I        98305.0                    NaN   \n",
      "1  Con Calle de Valdetorres         S        70103.0                    NaN   \n",
      "2              Pl Sector 20         S        70107.0                    NaN   \n",
      "3                       NaN       NaN            NaN                    NaN   \n",
      "4                       NaN       NaN            NaN                    NaN   \n",
      "\n",
      "   MODOINTERCAMBIADOR  CODIGOINTERCAMBIADOR  ... SITUACIONCALLE  \\\n",
      "0                90.0                  33.0  ...            NaN   \n",
      "1                93.0                 125.0  ...            NaN   \n",
      "2                93.0                 126.0  ...            NaN   \n",
      "3                 NaN                   NaN  ...            NaN   \n",
      "4                 NaN                   NaN  ...            NaN   \n",
      "\n",
      "   DENOMINACION_SAE  INTERURBANOS_CODIGOEMT_CRTM  \\\n",
      "0               NaN                          NaN   \n",
      "1               NaN                          NaN   \n",
      "2               NaN                          NaN   \n",
      "3               NaN                          NaN   \n",
      "4               NaN                          NaN   \n",
      "\n",
      "   INTERURBANOS_CODIGOEMT_EMPRESA   stop_id                       stop_desc  \\\n",
      "0                             NaN       NaN                             NaN   \n",
      "1                             NaN       NaN                             NaN   \n",
      "2                             NaN       NaN                             NaN   \n",
      "3                             NaN  par_10_5  Calle del Príncipe Carlos 13 B   \n",
      "4                             NaN  est_10_5  Calle del Príncipe Carlos 13 B   \n",
      "\n",
      "   stop_lat stop_lon zone_id            stop_url  \n",
      "0       NaN      NaN     NaN                 NaN  \n",
      "1       NaN      NaN     NaN                 NaN  \n",
      "2       NaN      NaN     NaN                 NaN  \n",
      "3  40.48905 -3.65136       A  http://www.crtm.es  \n",
      "4  40.48905 -3.65136       A  http://www.crtm.es  \n",
      "\n",
      "[5 rows x 55 columns]\n"
     ]
    }
   ],
   "source": [
    "# Lista de columnas a eliminar\n",
    "columns_to_delete = ['stop_code', 'stop_timezone', 'parent_station', 'wheelchair_boarding', \n",
    "                       'location_type', 'OBJECTID', 'OBJECTID_1', 'FECHAACTUAL', 'CODIGOCTMESTACIONREDMETRO']\n",
    "\n",
    "# Eliminar las columnas del DataFrame\n",
    "df_transporte_madrid1 = df_transporte_madrid.drop(columns=columns_to_delete)\n",
    "\n",
    "# Verificar el DataFrame resultante\n",
    "print(df_transporte_madrid1.head())"
   ]
  },
  {
   "cell_type": "code",
   "execution_count": 16,
   "id": "b511495b-7e3d-4645-b977-538948960c03",
   "metadata": {},
   "outputs": [
    {
     "name": "stdout",
     "output_type": "stream",
     "text": [
      "  IDESTACION                      stop_name             OBSERVACIONES  \\\n",
      "0      5_142                  AEROPUERTO T4                       NaN   \n",
      "1        5_2              ALCALÁ DE HENARES  Con Calle de Valdetorres   \n",
      "2        5_3  ALCALÁ DE HENARES UNIVERSIDAD              Pl Sector 20   \n",
      "3        NaN           ALVAREZ DE VILLAAMIL                       NaN   \n",
      "4        NaN           ALVAREZ DE VILLAAMIL                       NaN   \n",
      "\n",
      "  SITUACION  CODIGOPOSTAL  DISTRITO CORONATARIFARIA   stop_id  \\\n",
      "0         I       28042.0      21.0               A       NaN   \n",
      "1         S       28807.0       7.0              B3       NaN   \n",
      "2         S       28805.0       6.0              B3       NaN   \n",
      "3       NaN           NaN       NaN             NaN  par_10_5   \n",
      "4       NaN           NaN       NaN             NaN  est_10_5   \n",
      "\n",
      "                        stop_desc  stop_lat  stop_lon zone_id  \\\n",
      "0                             NaN       NaN       NaN     NaN   \n",
      "1                             NaN       NaN       NaN     NaN   \n",
      "2                             NaN       NaN       NaN     NaN   \n",
      "3  Calle del Príncipe Carlos 13 B  40.48905  -3.65136       A   \n",
      "4  Calle del Príncipe Carlos 13 B  40.48905  -3.65136       A   \n",
      "\n",
      "             stop_url  \n",
      "0                 NaN  \n",
      "1                 NaN  \n",
      "2                 NaN  \n",
      "3  http://www.crtm.es  \n",
      "4  http://www.crtm.es  \n"
     ]
    }
   ],
   "source": [
    "# Lista de columnas adicionales a eliminar\n",
    "columns_to_delete1 = ['DENOMINACIONABREVIADA', 'MODO', 'CODIGOINTERCAMBIADOR', \n",
    "                                   'MODOINTERCAMBIADOR', 'SITUACIONCALLE', 'DENOMINACION_SAE', \n",
    "                                   'INTERURBANOS_CODIGOEMT_EMPRESA', 'TIPO', 'GRADOACCESIBILIDAD', 'INTERURBANOS_CODIGOEMT_CRTM','CODIGOENTIDAD', 'CODIGOMUNICIPIO',\n",
    "                                     'CODIGONUCLEO', 'FECHAFIN', 'CODIGOEMPRESA', 'FECHAINICIO', 'FECHAALTA', 'ACONDICIONAMIENTOVIAJEROS','PARTICULA', 'HOJA25000',\n",
    "                                    'ACONDICIONAMIENTOVEHICULOS', 'TIPONUMERO', 'CODIGOVIA', 'CODIGOPROVINCIA', 'CALIFICADORPORTAL', 'CARRETERA', 'NUMEROPORTAL', \n",
    "                                    'SECCIONCENSAL', 'BARRIO', 'TESELA', 'SECTORURBANO', 'SECTOR', 'CORREDOR', 'CORONA123', 'ZONATRANSPORTE', 'ENCUESTADOMICILIARIA',\n",
    "                                     'ENCUESTAAFOROS' , 'X', 'Y', 'CODIGOESTACION', 'TIPOVIA', 'NOMBREVIA']\n",
    "\n",
    "# Eliminar las columnas adicionales del DataFrame\n",
    "df_transporte_madrid2 = df_transporte_madrid1.drop(columns=columns_to_delete1)\n",
    "\n",
    "# Verificar el DataFrame resultante\n",
    "print(df_transporte_madrid2.head())\n"
   ]
  },
  {
   "cell_type": "code",
   "execution_count": 17,
   "id": "ef97dc67-31d1-4a81-8dff-bd5c55372225",
   "metadata": {},
   "outputs": [],
   "source": [
    "pd.set_option('display.max_columns', None)"
   ]
  },
  {
   "cell_type": "code",
   "execution_count": 18,
   "id": "b316e184-05d0-48da-8cdc-e3291f7bde38",
   "metadata": {},
   "outputs": [
    {
     "name": "stdout",
     "output_type": "stream",
     "text": [
      "  IDESTACION                      stop_name             OBSERVACIONES  \\\n",
      "0      5_142                  AEROPUERTO T4                       NaN   \n",
      "1        5_2              ALCALÁ DE HENARES  Con Calle de Valdetorres   \n",
      "2        5_3  ALCALÁ DE HENARES UNIVERSIDAD              Pl Sector 20   \n",
      "3        NaN           ALVAREZ DE VILLAAMIL                       NaN   \n",
      "4        NaN           ALVAREZ DE VILLAAMIL                       NaN   \n",
      "\n",
      "  SITUACION  CODIGOPOSTAL  DISTRITO CORONATARIFARIA   stop_id  \\\n",
      "0         I       28042.0      21.0               A       NaN   \n",
      "1         S       28807.0       7.0              B3       NaN   \n",
      "2         S       28805.0       6.0              B3       NaN   \n",
      "3       NaN           NaN       NaN             NaN  par_10_5   \n",
      "4       NaN           NaN       NaN             NaN  est_10_5   \n",
      "\n",
      "                        stop_desc  stop_lat  stop_lon zone_id  \\\n",
      "0                             NaN       NaN       NaN     NaN   \n",
      "1                             NaN       NaN       NaN     NaN   \n",
      "2                             NaN       NaN       NaN     NaN   \n",
      "3  Calle del Príncipe Carlos 13 B  40.48905  -3.65136       A   \n",
      "4  Calle del Príncipe Carlos 13 B  40.48905  -3.65136       A   \n",
      "\n",
      "             stop_url  \n",
      "0                 NaN  \n",
      "1                 NaN  \n",
      "2                 NaN  \n",
      "3  http://www.crtm.es  \n",
      "4  http://www.crtm.es  \n"
     ]
    }
   ],
   "source": [
    "print(df_transporte_madrid2.head())"
   ]
  },
  {
   "cell_type": "code",
   "execution_count": 19,
   "id": "f95aaf03-a821-4486-aa99-14c3ad932088",
   "metadata": {},
   "outputs": [
    {
     "name": "stdout",
     "output_type": "stream",
     "text": [
      "  zone_id CORONATARIFARIA zone_id_completo\n",
      "0     NaN               A                A\n",
      "1     NaN              B3               B3\n",
      "2     NaN              B3               B3\n",
      "3       A             NaN                A\n",
      "4       A             NaN                A\n"
     ]
    }
   ],
   "source": [
    "df_transporte_madrid2['zone_id_completo'] = df_transporte_madrid2['zone_id'].combine_first(df_transporte_madrid2['CORONATARIFARIA'])\n",
    "\n",
    "# Verificar el resultado\n",
    "print(df_transporte_madrid2[['zone_id', 'CORONATARIFARIA', 'zone_id_completo']].head())\n"
   ]
  },
  {
   "cell_type": "code",
   "execution_count": 20,
   "id": "041a8fd8-8d9a-431d-a705-9938ddb7dd8b",
   "metadata": {},
   "outputs": [
    {
     "name": "stdout",
     "output_type": "stream",
     "text": [
      "  IDESTACION                      stop_name             OBSERVACIONES  \\\n",
      "0      5_142                  AEROPUERTO T4                       NaN   \n",
      "1        5_2              ALCALÁ DE HENARES  Con Calle de Valdetorres   \n",
      "2        5_3  ALCALÁ DE HENARES UNIVERSIDAD              Pl Sector 20   \n",
      "3        NaN           ALVAREZ DE VILLAAMIL                       NaN   \n",
      "4        NaN           ALVAREZ DE VILLAAMIL                       NaN   \n",
      "\n",
      "  SITUACION  CODIGOPOSTAL  DISTRITO   stop_id                       stop_desc  \\\n",
      "0         I       28042.0      21.0       NaN                             NaN   \n",
      "1         S       28807.0       7.0       NaN                             NaN   \n",
      "2         S       28805.0       6.0       NaN                             NaN   \n",
      "3       NaN           NaN       NaN  par_10_5  Calle del Príncipe Carlos 13 B   \n",
      "4       NaN           NaN       NaN  est_10_5  Calle del Príncipe Carlos 13 B   \n",
      "\n",
      "   stop_lat  stop_lon            stop_url zone_id  \n",
      "0       NaN       NaN                 NaN       A  \n",
      "1       NaN       NaN                 NaN      B3  \n",
      "2       NaN       NaN                 NaN      B3  \n",
      "3  40.48905  -3.65136  http://www.crtm.es       A  \n",
      "4  40.48905  -3.65136  http://www.crtm.es       A  \n"
     ]
    }
   ],
   "source": [
    "# Eliminar las columnas originales si ya no son necesarias\n",
    "df_transporte_madrid2 = df_transporte_madrid2.drop(columns=['zone_id', 'CORONATARIFARIA'])\n",
    "\n",
    "# Renombrar la nueva columna a 'zone_id' si es necesario\n",
    "df_transporte_madrid2.rename(columns={'zone_id_completo': 'zone_id'}, inplace=True)\n",
    "\n",
    "# Verificar el DataFrame resultante\n",
    "print(df_transporte_madrid2.head())"
   ]
  },
  {
   "cell_type": "code",
   "execution_count": 21,
   "id": "f1de00fe-e054-421e-a5c9-fc900eeb41db",
   "metadata": {},
   "outputs": [
    {
     "name": "stdout",
     "output_type": "stream",
     "text": [
      "                       stop_name             OBSERVACIONES SITUACION  \\\n",
      "0                  AEROPUERTO T4                       NaN         I   \n",
      "1              ALCALÁ DE HENARES  Con Calle de Valdetorres         S   \n",
      "2  ALCALÁ DE HENARES UNIVERSIDAD              Pl Sector 20         S   \n",
      "3           ALVAREZ DE VILLAAMIL                       NaN       NaN   \n",
      "4           ALVAREZ DE VILLAAMIL                       NaN       NaN   \n",
      "\n",
      "   CODIGOPOSTAL  DISTRITO                       stop_desc  stop_lat  stop_lon  \\\n",
      "0       28042.0      21.0                             NaN       NaN       NaN   \n",
      "1       28807.0       7.0                             NaN       NaN       NaN   \n",
      "2       28805.0       6.0                             NaN       NaN       NaN   \n",
      "3           NaN       NaN  Calle del Príncipe Carlos 13 B  40.48905  -3.65136   \n",
      "4           NaN       NaN  Calle del Príncipe Carlos 13 B  40.48905  -3.65136   \n",
      "\n",
      "             stop_url zone_id   stop_id  \n",
      "0                 NaN       A     5_142  \n",
      "1                 NaN      B3       5_2  \n",
      "2                 NaN      B3       5_3  \n",
      "3  http://www.crtm.es       A  par_10_5  \n",
      "4  http://www.crtm.es       A  est_10_5  \n"
     ]
    }
   ],
   "source": [
    "# Crear una nueva columna 'stop_id_completo' que combine 'stop_id' y 'IDESTACION'\n",
    "df_transporte_madrid2['stop_id_completo'] = df_transporte_madrid2['stop_id'].combine_first(df_transporte_madrid2['IDESTACION'])\n",
    "\n",
    "# Eliminar las columnas originales si ya no son necesarias\n",
    "df_transporte_madrid2 = df_transporte_madrid2.drop(columns=['stop_id', 'IDESTACION'])\n",
    "\n",
    "# Renombrar la nueva columna a 'stop_id'\n",
    "df_transporte_madrid2.rename(columns={'stop_id_completo': 'stop_id'}, inplace=True)\n",
    "\n",
    "# Verificar el DataFrame resultante\n",
    "print(df_transporte_madrid2.head())"
   ]
  },
  {
   "cell_type": "code",
   "execution_count": 22,
   "id": "c93c4f74-bdfc-41ed-8ce5-366db1c2f90b",
   "metadata": {},
   "outputs": [
    {
     "name": "stdout",
     "output_type": "stream",
     "text": [
      "                       stop_name SITUACION  CODIGOPOSTAL  DISTRITO  stop_lat  \\\n",
      "0                  AEROPUERTO T4         I       28042.0      21.0       NaN   \n",
      "1              ALCALÁ DE HENARES         S       28807.0       7.0       NaN   \n",
      "2  ALCALÁ DE HENARES UNIVERSIDAD         S       28805.0       6.0       NaN   \n",
      "3           ALVAREZ DE VILLAAMIL       NaN           NaN       NaN  40.48905   \n",
      "4           ALVAREZ DE VILLAAMIL       NaN           NaN       NaN  40.48905   \n",
      "\n",
      "   stop_lon            stop_url zone_id   stop_id  \\\n",
      "0       NaN                 NaN       A     5_142   \n",
      "1       NaN                 NaN      B3       5_2   \n",
      "2       NaN                 NaN      B3       5_3   \n",
      "3  -3.65136  http://www.crtm.es       A  par_10_5   \n",
      "4  -3.65136  http://www.crtm.es       A  est_10_5   \n",
      "\n",
      "                           street  \n",
      "0                             NaN  \n",
      "1        Con Calle de Valdetorres  \n",
      "2                    Pl Sector 20  \n",
      "3  Calle del Príncipe Carlos 13 B  \n",
      "4  Calle del Príncipe Carlos 13 B  \n"
     ]
    }
   ],
   "source": [
    "# Crear una nueva columna 'street' que combine 'stop_desc' y 'OBSERVACIONES'\n",
    "df_transporte_madrid2['street'] = df_transporte_madrid2['stop_desc'].combine_first(df_transporte_madrid2['OBSERVACIONES'])\n",
    "\n",
    "# Eliminar las columnas originales si ya no son necesarias\n",
    "df_transporte_madrid2 = df_transporte_madrid2.drop(columns=['stop_desc', 'OBSERVACIONES'])\n",
    "\n",
    "# Verificar el DataFrame resultante\n",
    "print(df_transporte_madrid2.head())"
   ]
  },
  {
   "cell_type": "code",
   "execution_count": 24,
   "id": "54c5b3ad-52f8-45b0-9b76-86df81cc6757",
   "metadata": {},
   "outputs": [
    {
     "name": "stdout",
     "output_type": "stream",
     "text": [
      "    stop_id                      stop_name SITUACION  CODIGOPOSTAL  DISTRITO  \\\n",
      "0     5_142                  AEROPUERTO T4         I       28042.0      21.0   \n",
      "1       5_2              ALCALÁ DE HENARES         S       28807.0       7.0   \n",
      "2       5_3  ALCALÁ DE HENARES UNIVERSIDAD         S       28805.0       6.0   \n",
      "3  par_10_5           ALVAREZ DE VILLAAMIL       NaN           NaN       NaN   \n",
      "4  est_10_5           ALVAREZ DE VILLAAMIL       NaN           NaN       NaN   \n",
      "\n",
      "   stop_lat  stop_lon            stop_url zone_id  \\\n",
      "0       NaN       NaN                 NaN       A   \n",
      "1       NaN       NaN                 NaN      B3   \n",
      "2       NaN       NaN                 NaN      B3   \n",
      "3  40.48905  -3.65136  http://www.crtm.es       A   \n",
      "4  40.48905  -3.65136  http://www.crtm.es       A   \n",
      "\n",
      "                           street  \n",
      "0                             NaN  \n",
      "1        Con Calle de Valdetorres  \n",
      "2                    Pl Sector 20  \n",
      "3  Calle del Príncipe Carlos 13 B  \n",
      "4  Calle del Príncipe Carlos 13 B  \n"
     ]
    }
   ],
   "source": [
    "# Reordenar las columnas para que 'stop_id' sea la segunda columna\n",
    "columnas = list(df_transporte_madrid2.columns)\n",
    "columnas.insert(0, columnas.pop(columnas.index('stop_id')))\n",
    "df_transporte_madrid2 = df_transporte_madrid2[columnas]\n",
    "\n",
    "# Verificar el DataFrame resultante\n",
    "print(df_transporte_madrid2.head())"
   ]
  },
  {
   "cell_type": "code",
   "execution_count": 25,
   "id": "ae340685-1519-4b51-ab00-40db81fed611",
   "metadata": {},
   "outputs": [],
   "source": [
    "df_transporte_madrid.to_csv('C:/Users/Lenovo/Documents/Master BD/TFM/Paradas metro - rente MADRID/dataset_transporte_Madrid.csv', index=False)"
   ]
  },
  {
   "cell_type": "code",
   "execution_count": null,
   "id": "c830570a-530c-426c-be2a-cbee60c80f3e",
   "metadata": {},
   "outputs": [],
   "source": []
  }
 ],
 "metadata": {
  "kernelspec": {
   "display_name": "Python 3 (ipykernel)",
   "language": "python",
   "name": "python3"
  },
  "language_info": {
   "codemirror_mode": {
    "name": "ipython",
    "version": 3
   },
   "file_extension": ".py",
   "mimetype": "text/x-python",
   "name": "python",
   "nbconvert_exporter": "python",
   "pygments_lexer": "ipython3",
   "version": "3.12.0"
  }
 },
 "nbformat": 4,
 "nbformat_minor": 5
}
