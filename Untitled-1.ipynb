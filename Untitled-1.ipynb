{
 "cells": [
  {
   "cell_type": "code",
   "execution_count": null,
   "metadata": {},
   "outputs": [],
   "source": [
    "import pandas as pd\n",
    "import os\n",
    "\n",
    "# Ruta a la carpeta que contiene los archivos CSV\n",
    "carpeta = 'data/OldData'\n",
    "\n",
    "# Lista para almacenar los DataFrames\n",
    "dataframes = []\n",
    "\n",
    "# Iterar sobre todos los archivos en la carpeta\n",
    "for archivo in os.listdir(carpeta):\n",
    "    if archivo.endswith('.csv'):\n",
    "        # Cargar el archivo CSV en un DataFrame\n",
    "        df = pd.read_csv(os.path.join(carpeta, archivo))\n",
    "        \n",
    "        # Comprobar el nombre de las columnas\n",
    "        print(f\"Columnas en {archivo}: {df.columns.tolist()}\")\n",
    "        \n",
    "        # Añadir el DataFrame a la lista\n",
    "        dataframes.append(df)\n",
    "\n",
    "# Concatenar todos los DataFrames en uno solo\n",
    "df_concatenado = pd.concat(dataframes, ignore_index=True)\n",
    "\n",
    "# Mostrar el DataFrame concatenado\n",
    "print(df_concatenado.head())\n"
   ]
  }
 ],
 "metadata": {
  "language_info": {
   "name": "python"
  }
 },
 "nbformat": 4,
 "nbformat_minor": 2
}
