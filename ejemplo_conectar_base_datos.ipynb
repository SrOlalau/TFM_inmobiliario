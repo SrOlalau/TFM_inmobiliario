{
 "cells": [
  {
   "cell_type": "code",
   "execution_count": 1,
   "metadata": {},
   "outputs": [
    {
     "name": "stdout",
     "output_type": "stream",
     "text": [
      "   id       precio                 sub_descr  \\\n",
      "0   1  1.600 €/mes    Piso en calle de Ayala   \n",
      "1   2  4.800 €/mes          Ático en Palacio   \n",
      "2   3  1.240 €/mes   Piso en calle Estocolmo   \n",
      "3   4    900 €/mes  Piso en calle Alfonso VI   \n",
      "4   5  1.050 €/mes  Piso en calle de Velarde   \n",
      "\n",
      "                                                href  \\\n",
      "0       /alquilar/piso-goya28006-30022977798_100500/   \n",
      "1  /alquilar/atico-centro_palacio28008-4339893666...   \n",
      "2  /alquilar/piso-parque_oeste_fuente_cisneros_ca...   \n",
      "3  /alquilar/piso-valdemoro_estacion-45011597747_...   \n",
      "4  /alquilar/piso-universidad_malasana28004-44190...   \n",
      "\n",
      "                                           ubicacion habitaciones   banios  \\\n",
      "0          Goya (Distrito Salamanca. Madrid Capital)      2 habs.   1 baño   \n",
      "1          Palacio (Distrito Centro. Madrid Capital)      4 habs.  5 baños   \n",
      "2   Parque Oeste-Fuente Cisneros-Campodón (Alcorcón)      3 habs.     None   \n",
      "3                               Estación (Valdemoro)      2 habs.  2 baños   \n",
      "4  Universidad-Malasaña (Distrito Centro. Madrid ...       1 hab.   1 baño   \n",
      "\n",
      "      mt2                                              otros   latitude  \\\n",
      "0   45 m²  Disponible desde julio:\\nVivienda en el distri...  40.427024   \n",
      "1  300 m²  Gilmar pone a su disposición esta vivienda de ...  40.418642   \n",
      "2   95 m²  Estupenda vivienda de 3 dormitorios con terraz...  40.351760   \n",
      "3   88 m²  Vivienda de 2 dormitorios, 2 baños completos, ...  40.198196   \n",
      "4   55 m²  Se alquila piso amueblado junto a plaza del 2 ...  40.426838   \n",
      "\n",
      "   longitude raw_json    ccaa      tipo       fecha  \n",
      "0  -3.670983     None  madrid  alquiler  2024-08-15  \n",
      "1  -3.720449     None  madrid  alquiler  2024-08-15  \n",
      "2  -3.832008     None  madrid  alquiler  2024-08-15  \n",
      "3  -3.667306     None  madrid  alquiler  2024-08-15  \n",
      "4  -3.702535     None  madrid  alquiler  2024-08-15  \n",
      "Conexión a PostgreSQL cerrada\n"
     ]
    },
    {
     "name": "stderr",
     "output_type": "stream",
     "text": [
      "C:\\Users\\Valentin\\AppData\\Local\\Temp\\ipykernel_60764\\4062245439.py:17: UserWarning: pandas only supports SQLAlchemy connectable (engine/connection) or database string URI or sqlite3 DBAPI2 connection. Other DBAPI2 objects are not tested. Please consider using SQLAlchemy.\n",
      "  df = pd.read_sql_query(query, connection)\n"
     ]
    }
   ],
   "source": [
    "import psycopg2\n",
    "import pandas as pd\n",
    "\n",
    "# Conectar a la base de datos PostgreSQL\n",
    "try:\n",
    "    # Configura los parámetros de conexión\n",
    "    connection = psycopg2.connect(\n",
    "        user=\"pisos\",\n",
    "        password=\"pisos\",\n",
    "        host=\"10.1.2.2\",\n",
    "        port=\"5437\",\n",
    "        database=\"scraping_pisos\"  # Conéctate a la base de datos por defecto\n",
    "    )\n",
    "\n",
    "    # Carga datos en un DataFrame\n",
    "    query = \"SELECT * FROM scraping_pisos_tabla;\"  # Reemplaza 'nombre_de_la_tabla' con el nombre de la tabla que deseas cargar\n",
    "    df = pd.read_sql_query(query, connection)\n",
    "\n",
    "    # Muestra el DataFrame\n",
    "    print(df.head())  # Muestra las primeras 5 filas del DataFrame\n",
    "\n",
    "except (Exception, psycopg2.Error) as error:\n",
    "    print(\"Error al conectarse a PostgreSQL o al cargar datos en DataFrame\", error)\n",
    "\n",
    "finally:\n",
    "    # Cierra la conexión\n",
    "    if connection:\n",
    "        connection.close()\n",
    "        print(\"Conexión a PostgreSQL cerrada\")\n"
   ]
  }
 ],
 "metadata": {
  "kernelspec": {
   "display_name": "Python 3",
   "language": "python",
   "name": "python3"
  },
  "language_info": {
   "codemirror_mode": {
    "name": "ipython",
    "version": 3
   },
   "file_extension": ".py",
   "mimetype": "text/x-python",
   "name": "python",
   "nbconvert_exporter": "python",
   "pygments_lexer": "ipython3",
   "version": "3.12.5"
  }
 },
 "nbformat": 4,
 "nbformat_minor": 2
}
