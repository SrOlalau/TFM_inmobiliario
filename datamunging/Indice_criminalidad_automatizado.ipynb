{
 "cells": [
  {
   "cell_type": "code",
   "execution_count": null,
   "id": "1cbfa50a-1a19-44e9-9a41-54586f6cf950",
   "metadata": {},
   "outputs": [],
   "source": [
    "import pandas as pd\n",
    "import os\n",
    "\n",
    "def procesar_archivos_excel(base_path, meses, hojas_interes):\n",
    "    for mes in meses:\n",
    "        file_path = os.path.join(base_path, mes, f'DATOS EN FORMATO REUTILIZABLE {mes.upper()}.xlsx')\n",
    "        if not os.path.exists(file_path):\n",
    "            print(f\"El archivo {file_path} no existe.\")\n",
    "            continue\n",
    "        \n",
    "        # Crear un diccionario para almacenar los DataFrames con el nombre de cada hoja\n",
    "        dfs = {}\n",
    "        \n",
    "        # Leer cada hoja de interés y almacenarla en el diccionario\n",
    "        for hoja in hojas_interes:\n",
    "            try:\n",
    "                df = pd.read_excel(file_path, sheet_name=hoja, header=2)  # Usar header=2 para que tome los títulos correctos\n",
    "                dfs[hoja] = df\n",
    "            except Exception as e:\n",
    "                print(f\"Error al leer la hoja {hoja} del archivo {file_path}: {e}\")\n",
    "        \n",
    "        # Guardar cada DataFrame en un archivo CSV\n",
    "        for hoja, df in dfs.items():\n",
    "            output_path = os.path.join(base_path, mes, f\"{hoja.lower().replace(' ', '_')}.csv\")\n",
    "            df.to_csv(output_path, index=False)\n",
    "            print(f\"Archivo guardado: {output_path}\")\n",
    "\n",
    "# Ruta base y meses a procesar\n",
    "base_path = 'C:/Users/Lenovo/Documents/Master BD/TFM/IND. CRIMINALIDAD/Madrid/'\n",
    "meses = [\n",
    "    'Abril 2024', 'Marzo 2024', 'Febrero 2024', 'Enero 2024',\n",
    "    'Diciembre 2023', 'Noviembre 2023', 'Octubre 2023',\n",
    "    'Septiembre 2023', 'Agosto 2023', 'Julio 2023',\n",
    "    'Junio 2023', 'Mayo 2023', 'Abril 2023', 'Marzo 2023',\n",
    "    'Febrero 2023', 'Enero 2023'\n",
    "]\n",
    "hojas_interes = ['SEGURIDAD', 'PERS. DETENIDAS X DISTRITOS', 'ACCIDENTES', 'EXPEDIENTES OAC', 'VENTA AMBULANTE', 'AA.TT.']\n",
    "\n",
    "# Llamar a la función\n",
    "procesar_archivos_excel(base_path, meses, hojas_interes)"
   ]
  },
  {
   "cell_type": "markdown",
   "id": "86fc893b-2597-4144-9628-a4f7b6763b45",
   "metadata": {},
   "source": [
    "## UNIR DATASET INDICES DE CRIMINALIDAD."
   ]
  },
  {
   "cell_type": "code",
   "execution_count": null,
   "id": "55d4bd2f-a9d4-430b-9497-875a539b57c0",
   "metadata": {},
   "outputs": [],
   "source": [
    "def unir_archivos_csv(base_path, meses, archivos_csv):\n",
    "    dfs_meses = {}\n",
    "\n",
    "    # Recorrer cada carpeta de mes y leer los archivos CSV\n",
    "    for mes in meses:\n",
    "        carpeta = os.path.join(base_path, mes)\n",
    "        dfs = {}\n",
    "        for archivo in archivos_csv:\n",
    "            ruta_archivo = os.path.join(carpeta, archivo)\n",
    "            if os.path.exists(ruta_archivo):\n",
    "                df = pd.read_csv(ruta_archivo)\n",
    "                if 'COMISARÍAS' in df.columns:\n",
    "                    df.rename(columns={'COMISARÍAS': 'DISTRITOS'}, inplace=True)\n",
    "                dfs[archivo] = df\n",
    "            else:\n",
    "                print(f\"El archivo {ruta_archivo} no existe.\")\n",
    "        \n",
    "        # Verificar que todos los DataFrames tienen la columna 'DISTRITOS'\n",
    "        for archivo, df in dfs.items():\n",
    "            if 'DISTRITOS' not in df.columns:\n",
    "                print(f\"El archivo {archivo} no contiene la columna 'DISTRITOS'. Las columnas son: {df.columns}\")\n",
    "\n",
    "        # Inicializar el DataFrame final con el primer DataFrame de la lista\n",
    "        if archivos_csv[0] in dfs:\n",
    "            df_ind_criminalidad = dfs[archivos_csv[0]]\n",
    "        \n",
    "            # Realizar un outer join con los demás DataFrames basado en la columna 'DISTRITOS'\n",
    "            for archivo in archivos_csv[1:]:\n",
    "                if archivo in dfs and 'DISTRITOS' in dfs[archivo].columns:\n",
    "                    df_ind_criminalidad = pd.merge(df_ind_criminalidad, dfs[archivo], on='DISTRITOS', how='outer')\n",
    "                else:\n",
    "                    print(f\"Omitiendo el archivo {archivo} porque no tiene la columna 'DISTRITOS'.\")\n",
    "            \n",
    "            # Guardar el DataFrame resultante de cada mes en el diccionario\n",
    "            dfs_meses[mes] = df_ind_criminalidad\n",
    "        else:\n",
    "            print(f\"No se encontró el archivo {archivos_csv[0]} en el mes {mes}.\")\n",
    "\n",
    "    # Unir los DataFrames de todos los meses\n",
    "    df_final = pd.concat(dfs_meses.values(), ignore_index=True)\n",
    "    \n",
    "    return df_final\n",
    "\n",
    "# Definir la lista de archivos CSV\n",
    "archivos_csv = [\n",
    "    'aa.tt..csv', 'accidentes.csv', 'expedientes_oac.csv',\n",
    "    'pers._detenidas_x_distritos.csv', 'seguridad.csv', 'venta_ambulante.csv'\n",
    "]\n",
    "\n",
    "# Llamar a la función y obtener el DataFrame final\n",
    "df_final = unir_archivos_csv(base_path, meses, archivos_csv)\n",
    "\n",
    "# Guardar el DataFrame final en un archivo CSV\n",
    "df_final.to_csv(os.path.join(base_path, 'indice_criminalidad_completo.csv'), index=False)\n",
    "print(\"Archivo final guardado: indice_criminalidad_completo.csv\")"
   ]
  },
  {
   "cell_type": "markdown",
   "id": "7bd11b8c-8b14-471f-a4db-55f94bb35d7a",
   "metadata": {},
   "source": [
    "## EJECUTABLE."
   ]
  },
  {
   "cell_type": "code",
   "execution_count": 1,
   "id": "b039e083-d9d5-47a0-9293-5d1b80dbf3b5",
   "metadata": {
    "scrolled": true
   },
   "outputs": [
    {
     "ename": "NameError",
     "evalue": "name 'procesar_archivos_excel' is not defined",
     "output_type": "error",
     "traceback": [
      "\u001b[1;31m---------------------------------------------------------------------------\u001b[0m",
      "\u001b[1;31mNameError\u001b[0m                                 Traceback (most recent call last)",
      "Cell \u001b[1;32mIn[1], line 2\u001b[0m\n\u001b[0;32m      1\u001b[0m \u001b[38;5;66;03m# Convertir archivos Excel a CSV\u001b[39;00m\n\u001b[1;32m----> 2\u001b[0m \u001b[43mprocesar_archivos_excel\u001b[49m(base_path, meses, hojas_interes)\n\u001b[0;32m      4\u001b[0m \u001b[38;5;66;03m# Unir archivos CSV en un único DataFrame\u001b[39;00m\n\u001b[0;32m      5\u001b[0m df_final \u001b[38;5;241m=\u001b[39m unir_archivos_csv(base_path, meses, archivos_csv)\n",
      "\u001b[1;31mNameError\u001b[0m: name 'procesar_archivos_excel' is not defined"
     ]
    }
   ],
   "source": [
    "# Convertir archivos Excel a CSV\n",
    "procesar_archivos_excel(base_path, meses, hojas_interes)\n",
    "\n",
    "# Unir archivos CSV en un único DataFrame\n",
    "df_final = unir_archivos_csv(base_path, meses, archivos_csv)\n",
    "\n",
    "# Guardar el DataFrame final en un archivo CSV\n",
    "df_final.to_csv(os.path.join(base_path, 'indice_criminalidad_completo.csv'), index=False)\n",
    "print(\"Archivo final guardado: indice_criminalidad_completo.csv\")"
   ]
  },
  {
   "cell_type": "code",
   "execution_count": null,
   "id": "08baf980-9c72-4c28-a590-71b1f1aa2ae8",
   "metadata": {},
   "outputs": [],
   "source": []
  }
 ],
 "metadata": {
  "kernelspec": {
   "display_name": "Python 3 (ipykernel)",
   "language": "python",
   "name": "python3"
  },
  "language_info": {
   "codemirror_mode": {
    "name": "ipython",
    "version": 3
   },
   "file_extension": ".py",
   "mimetype": "text/x-python",
   "name": "python",
   "nbconvert_exporter": "python",
   "pygments_lexer": "ipython3",
   "version": "3.12.0"
  }
 },
 "nbformat": 4,
 "nbformat_minor": 5
}
